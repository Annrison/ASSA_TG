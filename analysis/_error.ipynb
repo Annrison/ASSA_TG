{
 "cells": [
  {
   "cell_type": "code",
   "execution_count": null,
   "id": "0cc736eb-51ca-479a-aadb-d2e1732733aa",
   "metadata": {},
   "outputs": [],
   "source": [
    "都錯在哪裡"
   ]
  },
  {
   "cell_type": "code",
   "execution_count": 1,
   "id": "da30a3a2-3db7-4928-83d3-cabbd48d8f4c",
   "metadata": {},
   "outputs": [],
   "source": [
    "# 讀所有的預測檔\n",
    "def read_all_pred(model_ver, dataset, pdir, asp_dict, ifdoc = None):\n",
    "    \n",
    "    # setting\n",
    "    asp_num = len(asp_dict[dataset])\n",
    "    sen_num = 2\n",
    "    path = f'{pdir}/{model_ver}/result_ASSA/{dataset}/original/'\n",
    "    \n",
    "    # read all pred from dir\n",
    "    filenames = next(walk(path), (None, None, []))[2]  # [] if no file\n",
    "    sum_list = list(filter(re.compile(\".*sum\").match, filenames)) # Read Note below    \n",
    "            \n",
    "    df = pd.DataFrame()    \n",
    "    for fname in sum_list:   \n",
    "        df_temp = read_pred_result(path, fname, asp_num, sen_num)\n",
    "        df = pd.concat([df, df_temp])  \n",
    "    \n",
    "    # read & merge true label\n",
    "    df_true = pd.read_csv(f'../data/test/test_{dataset}.csv')\n",
    "    if ifdoc != None:\n",
    "        del df_true['sentence']\n",
    "    df = df.merge(df_true, on ='scode', how = 'left')     \n",
    "    \n",
    "    epoch_num = df.Epoch.max()\n",
    "    round_num = df.Round.max() + 1\n",
    "\n",
    "    print(f\"mver: {model_ver}\")\n",
    "    print(f\"Epochs: {epoch_num}, Rounds: {round_num}, read {len(sum_list)} files\")    \n",
    "    return df"
   ]
  },
  {
   "cell_type": "code",
   "execution_count": 7,
   "id": "779362d1-69cf-495d-88ba-1565842466cb",
   "metadata": {},
   "outputs": [],
   "source": [
    "model_ver = 'YELP_sent_TGCN'\n",
    "dataset = 'YELP'\n",
    "pdir = \"../model_result\""
   ]
  },
  {
   "cell_type": "code",
   "execution_count": 8,
   "id": "a690e732-a0ef-4a19-87ed-80f8b39b6a8f",
   "metadata": {},
   "outputs": [
    {
     "ename": "NameError",
     "evalue": "name 'asp_dict' is not defined",
     "output_type": "error",
     "traceback": [
      "\u001b[0;31m---------------------------------------------------------------------------\u001b[0m",
      "\u001b[0;31mNameError\u001b[0m                                 Traceback (most recent call last)",
      "\u001b[0;32m<ipython-input-8-a91b55bed4a5>\u001b[0m in \u001b[0;36m<module>\u001b[0;34m\u001b[0m\n\u001b[0;32m----> 1\u001b[0;31m \u001b[0mresult_all\u001b[0m \u001b[0;34m=\u001b[0m \u001b[0mread_all_pred\u001b[0m\u001b[0;34m(\u001b[0m\u001b[0mmodel_ver\u001b[0m\u001b[0;34m,\u001b[0m\u001b[0mdataset\u001b[0m\u001b[0;34m,\u001b[0m\u001b[0mpdir\u001b[0m\u001b[0;34m,\u001b[0m\u001b[0masp_dict\u001b[0m\u001b[0;34m)\u001b[0m\u001b[0;34m\u001b[0m\u001b[0;34m\u001b[0m\u001b[0m\n\u001b[0m",
      "\u001b[0;31mNameError\u001b[0m: name 'asp_dict' is not defined"
     ]
    }
   ],
   "source": [
    "result_all = read_all_pred(model_ver,dataset,pdir,asp_dict)"
   ]
  },
  {
   "cell_type": "code",
   "execution_count": null,
   "id": "2de36bd2-d174-4828-a9d4-01c554e42f9a",
   "metadata": {},
   "outputs": [],
   "source": []
  },
  {
   "cell_type": "code",
   "execution_count": null,
   "id": "b850a26c-b068-4f47-a563-9e7abf191160",
   "metadata": {},
   "outputs": [],
   "source": []
  }
 ],
 "metadata": {
  "kernelspec": {
   "display_name": "Python 3",
   "language": "python",
   "name": "python3"
  },
  "language_info": {
   "codemirror_mode": {
    "name": "ipython",
    "version": 3
   },
   "file_extension": ".py",
   "mimetype": "text/x-python",
   "name": "python",
   "nbconvert_exporter": "python",
   "pygments_lexer": "ipython3",
   "version": "3.6.13"
  }
 },
 "nbformat": 4,
 "nbformat_minor": 5
}
