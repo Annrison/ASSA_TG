{
 "cells": [
  {
   "cell_type": "code",
   "execution_count": 16,
   "id": "4374a6c7-a3b1-42ca-a80a-a1dccb3be3f3",
   "metadata": {},
   "outputs": [],
   "source": [
    "import pandas as pd\n",
    "# import pickle"
   ]
  },
  {
   "cell_type": "code",
   "execution_count": 21,
   "id": "fa13e667-7895-40cc-80d6-1013ab53f184",
   "metadata": {},
   "outputs": [],
   "source": [
    "asp_dict = {\n",
    "    \"YELP\": [\"AMB\", \"DRI\", \"FOD\", \"LOC\", \"SRV\"],\n",
    "    \"AMAZON\": [\"SUPPORT\", \"OS\", \"DISPLAY\", \"BATTERY\", \"COMPANY\", \"MOUSE\", \"SOFTWARE\", \"KEYBOARD\"],\n",
    "    \"CHIMOBILE\": ['PHONE', 'DISPLAY', 'MULTIMEDIA_DEVICES', 'SOFTWARE', 'OS', 'HARDWARE'],\n",
    "\n",
    "    \"FIQA_POST\" : [\"STOCK\",\"CORPORATE\",\"MARKET\"],\n",
    "    \"FIQA_HEADLINE\" : [\"STOCK\",\"CORPORATE\",\"MARKET\",\"ECONOMY\"],\n",
    "    \"YELP_SELECT\": [\"DRI\", \"FOD\", \"SRV\"],\n",
    "}"
   ]
  },
  {
   "cell_type": "code",
   "execution_count": 22,
   "id": "cd7f347b-6f17-48e6-8271-7438a5f3833d",
   "metadata": {},
   "outputs": [],
   "source": [
    "output1=open(f'aspect.pkl','wb')\n",
    "pickle.dump(asp_dict, output1)"
   ]
  },
  {
   "cell_type": "code",
   "execution_count": 23,
   "id": "f7ceb90f-c3ab-4ef5-ae15-c5f585fe2ce2",
   "metadata": {},
   "outputs": [
    {
     "data": {
      "text/plain": [
       "6"
      ]
     },
     "execution_count": 23,
     "metadata": {},
     "output_type": "execute_result"
    }
   ],
   "source": [
    "obj = pd.read_pickle('aspect.pkl')\n",
    "len(obj)"
   ]
  },
  {
   "cell_type": "code",
   "execution_count": 24,
   "id": "49c0844e-22b5-41d9-b45d-c0dc4e8d6822",
   "metadata": {},
   "outputs": [
    {
     "data": {
      "text/plain": [
       "{'YELP': ['AMB', 'DRI', 'FOD', 'LOC', 'SRV'],\n",
       " 'AMAZON': ['SUPPORT',\n",
       "  'OS',\n",
       "  'DISPLAY',\n",
       "  'BATTERY',\n",
       "  'COMPANY',\n",
       "  'MOUSE',\n",
       "  'SOFTWARE',\n",
       "  'KEYBOARD'],\n",
       " 'CHIMOBILE': ['PHONE',\n",
       "  'DISPLAY',\n",
       "  'MULTIMEDIA_DEVICES',\n",
       "  'SOFTWARE',\n",
       "  'OS',\n",
       "  'HARDWARE'],\n",
       " 'FIQA_POST': ['STOCK', 'CORPORATE', 'MARKET'],\n",
       " 'FIQA_HEADLINE': ['STOCK', 'CORPORATE', 'MARKET', 'ECONOMY'],\n",
       " 'YELP_SELECT': ['DRI', 'FOD', 'SRV']}"
      ]
     },
     "execution_count": 24,
     "metadata": {},
     "output_type": "execute_result"
    }
   ],
   "source": [
    "obj"
   ]
  },
  {
   "cell_type": "code",
   "execution_count": 9,
   "id": "08544d86-60cf-4946-b856-e6c2d0033a88",
   "metadata": {},
   "outputs": [],
   "source": [
    "relation_dict = {\n",
    "    \"DP_2016\": [\"amod\", \"case\", \"nsubj\", \"csubj\", \"xsubj\", \"dobj\", \"iobj\", \"conj\"], \n",
    "    \"DP+_2016\": [\"amod\", \"case\", \"nsubj\", \"csubj\", \"xsubj\", \"dobj\", \"iobj\", \"conj\", \n",
    "            \"advmod\", \"dep\", \"cop\", \"mark\", \"nsubjpass\", \"pobj\", \"acomp\", \"xcomp\", \"csubjpass\", \"poss\"],\n",
    "}"
   ]
  },
  {
   "cell_type": "code",
   "execution_count": 10,
   "id": "27a6325f-a641-475d-bdee-0d37ff4d5dd2",
   "metadata": {},
   "outputs": [],
   "source": [
    "output1=open(f'relation.pkl','wb')\n",
    "pickle.dump(relation_dict, output1)"
   ]
  },
  {
   "cell_type": "code",
   "execution_count": 11,
   "id": "9e3cd02a-3417-488c-9fc6-5d43013b0cbf",
   "metadata": {},
   "outputs": [
    {
     "data": {
      "text/plain": [
       "2"
      ]
     },
     "execution_count": 11,
     "metadata": {},
     "output_type": "execute_result"
    }
   ],
   "source": [
    "obj = pd.read_pickle('relation.pkl')\n",
    "len(obj)"
   ]
  },
  {
   "cell_type": "code",
   "execution_count": 12,
   "id": "12d08c44-786a-4da3-9f7f-de71a3bbf5cb",
   "metadata": {},
   "outputs": [
    {
     "data": {
      "text/plain": [
       "{'DP_2016': ['amod',\n",
       "  'case',\n",
       "  'nsubj',\n",
       "  'csubj',\n",
       "  'xsubj',\n",
       "  'dobj',\n",
       "  'iobj',\n",
       "  'conj'],\n",
       " 'DP+_2016': ['amod',\n",
       "  'case',\n",
       "  'nsubj',\n",
       "  'csubj',\n",
       "  'xsubj',\n",
       "  'dobj',\n",
       "  'iobj',\n",
       "  'conj',\n",
       "  'advmod',\n",
       "  'dep',\n",
       "  'cop',\n",
       "  'mark',\n",
       "  'nsubjpass',\n",
       "  'pobj',\n",
       "  'acomp',\n",
       "  'xcomp',\n",
       "  'csubjpass',\n",
       "  'poss']}"
      ]
     },
     "execution_count": 12,
     "metadata": {},
     "output_type": "execute_result"
    }
   ],
   "source": [
    "obj"
   ]
  },
  {
   "cell_type": "code",
   "execution_count": 3,
   "id": "2eee869c-d72d-4a04-903d-6fad0836c030",
   "metadata": {},
   "outputs": [],
   "source": [
    "\n",
    "t =  'SUPPORT, OS, DISPLAY, BATTERY, COMPANY, MOUSE, SOFTWARE, KEYBOARD'"
   ]
  },
  {
   "cell_type": "code",
   "execution_count": 4,
   "id": "b9f25b96-409b-4627-b894-eec71afaca61",
   "metadata": {},
   "outputs": [
    {
     "data": {
      "text/plain": [
       "'support, os, display, battery, company, mouse, software, keyboard'"
      ]
     },
     "execution_count": 4,
     "metadata": {},
     "output_type": "execute_result"
    }
   ],
   "source": [
    "t.lower()"
   ]
  },
  {
   "cell_type": "code",
   "execution_count": null,
   "id": "0a545f20-eacd-476f-877b-a4dfc22774d9",
   "metadata": {},
   "outputs": [],
   "source": []
  }
 ],
 "metadata": {
  "kernelspec": {
   "display_name": "Python 3",
   "language": "python",
   "name": "python3"
  },
  "language_info": {
   "codemirror_mode": {
    "name": "ipython",
    "version": 3
   },
   "file_extension": ".py",
   "mimetype": "text/x-python",
   "name": "python",
   "nbconvert_exporter": "python",
   "pygments_lexer": "ipython3",
   "version": "3.6.13"
  }
 },
 "nbformat": 4,
 "nbformat_minor": 5
}
