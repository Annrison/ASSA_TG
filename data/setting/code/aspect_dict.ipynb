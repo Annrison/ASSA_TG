{
 "cells": [
  {
   "cell_type": "code",
   "execution_count": 9,
   "id": "b49b5d84-d354-4a63-8481-ff3feed9a99f",
   "metadata": {},
   "outputs": [
    {
     "name": "stderr",
     "output_type": "stream",
     "text": [
      "Warming up PyWSD (takes ~10 secs)... took 3.5646779537200928 secs.\n"
     ]
    }
   ],
   "source": [
    "from pywsd.utils import lemmatize_sentence"
   ]
  },
  {
   "cell_type": "code",
   "execution_count": 16,
   "id": "bd25d9ab-0ce1-403e-aba0-affa8db2f30a",
   "metadata": {},
   "outputs": [],
   "source": [
    "args_aspect_seeds = '../../seed/asp/asp_seeds_YELP.txt'"
   ]
  },
  {
   "cell_type": "code",
   "execution_count": 17,
   "id": "eac9937f-4b44-4184-a259-cf48a9c61935",
   "metadata": {},
   "outputs": [
    {
     "data": {
      "text/plain": [
       "['io']"
      ]
     },
     "execution_count": 17,
     "metadata": {},
     "output_type": "execute_result"
    }
   ],
   "source": [
    "lemmatize_sentence('IOS')"
   ]
  },
  {
   "cell_type": "code",
   "execution_count": 18,
   "id": "97032178-cb17-41d9-b5fb-0830ad1d846e",
   "metadata": {},
   "outputs": [
    {
     "name": "stdout",
     "output_type": "stream",
     "text": [
      "different drinks  |  drink\n"
     ]
    }
   ],
   "source": [
    "fseed = open(args_aspect_seeds, 'r')\n",
    "for line in fseed:\n",
    "    seeds = []\n",
    "    weights = []\n",
    "    for tok in line.split():\n",
    "        word, weight = tok.split(':')\n",
    "        lemma_word = lemmatize_sentence(word)[0]\n",
    "        if lemma_word != word:\n",
    "            print(\"different\",word,' | ',lemma_word)"
   ]
  },
  {
   "cell_type": "code",
   "execution_count": null,
   "id": "65ab4664-8cbb-4b91-b240-afa882f53357",
   "metadata": {},
   "outputs": [],
   "source": []
  },
  {
   "cell_type": "code",
   "execution_count": null,
   "id": "b04f5b6b-79bb-4a5d-89c7-a24e6afb04f6",
   "metadata": {},
   "outputs": [],
   "source": []
  },
  {
   "cell_type": "code",
   "execution_count": null,
   "id": "7bae2002-70a2-4c50-bca2-fe2e46e33415",
   "metadata": {},
   "outputs": [],
   "source": []
  }
 ],
 "metadata": {
  "kernelspec": {
   "display_name": "Python 3",
   "language": "python",
   "name": "python3"
  },
  "language_info": {
   "codemirror_mode": {
    "name": "ipython",
    "version": 3
   },
   "file_extension": ".py",
   "mimetype": "text/x-python",
   "name": "python",
   "nbconvert_exporter": "python",
   "pygments_lexer": "ipython3",
   "version": "3.6.13"
  }
 },
 "nbformat": 4,
 "nbformat_minor": 5
}
