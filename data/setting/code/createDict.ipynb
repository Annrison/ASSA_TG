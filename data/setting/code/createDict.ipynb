{
 "cells": [
  {
   "cell_type": "code",
   "execution_count": null,
   "id": "a121fdf4-62a2-49c2-8953-b55434410ad4",
   "metadata": {},
   "outputs": [],
   "source": []
  },
  {
   "cell_type": "code",
   "execution_count": 1,
   "id": "cb141aab-48e1-48db-a44f-9bb743c41f85",
   "metadata": {},
   "outputs": [],
   "source": [
    "import pandas as pd\n",
    "import numpy as np\n",
    "import nltk\n",
    "from gensim.models import Word2Vec"
   ]
  },
  {
   "cell_type": "code",
   "execution_count": 2,
   "id": "2d778f4a-bf78-4f98-89f3-faaf6ef31138",
   "metadata": {},
   "outputs": [],
   "source": [
    "def join_list(l):\n",
    "    return \" \".join(l)\n",
    "\n",
    "def seed_str(domain,weight,manual=False,general = False):\n",
    "    asp_name_list = asp_dict[domain] \n",
    "    weight_str = f\":{str(weight)} \"\n",
    "    \n",
    "    dict_vocab_str = \"\"\n",
    "    for asp_name in asp_name_list:        \n",
    "        if general:\n",
    "            for word in train_pos_word:\n",
    "                dict_vocab_str += word + weight_str\n",
    "        if manual:\n",
    "            for word in manual[asp_name]['pos']:\n",
    "                dict_vocab_str += word + weight_str\n",
    "\n",
    "        dict_vocab_str += \"| \"\n",
    "        # negative words\n",
    "        if general:\n",
    "            for word in train_neg_word:\n",
    "                dict_vocab_str += word + weight_str\n",
    "        if manual:\n",
    "            for word in manual[asp_name]['neg']:\n",
    "                dict_vocab_str += word + weight_str\n",
    "        dict_vocab_str += \"\\n\"\n",
    "    return dict_vocab_str\n",
    "\n",
    "def create_dict(seed_path,dict_vocab_str):\n",
    "    f = open(f\"{seed_path}.txt\", 'w')\n",
    "    f.write(dict_vocab_str)\n",
    "    f.close()\n",
    "    print(f\"save seed to: {seed_path}\")"
   ]
  },
  {
   "cell_type": "code",
   "execution_count": 8,
   "id": "84b3c5fd-c8e1-4784-8701-417352b4e87d",
   "metadata": {},
   "outputs": [],
   "source": [
    "pl_affin = [\"good\", \"great\", \"nice\", \"best\", \"amazing\"]\n",
    "nl_affin = [\"gross\", \"bad\", \"terrible\", \"hate\", \"disappointed\"]"
   ]
  },
  {
   "cell_type": "code",
   "execution_count": 37,
   "id": "89864858-bbe4-4d3d-ae5f-00178f07907c",
   "metadata": {},
   "outputs": [],
   "source": [
    "# pl_affin = ['good', 'great', 'best', 'nice', 'love']\n",
    "# nl_affin = ['bad', 'disappointed', 'wrong', 'terrible', 'worst']"
   ]
  },
  {
   "cell_type": "code",
   "execution_count": null,
   "id": "5c0698cc-c075-4e62-8253-930be2b42a1b",
   "metadata": {},
   "outputs": [],
   "source": []
  },
  {
   "cell_type": "code",
   "execution_count": null,
   "id": "a9b749ae-6dfe-4b93-916c-4d4a11dfa5d7",
   "metadata": {},
   "outputs": [],
   "source": []
  },
  {
   "cell_type": "code",
   "execution_count": 4,
   "id": "ff7a0bdb-a8e1-4c84-9e35-70d0bb8b0a50",
   "metadata": {},
   "outputs": [],
   "source": [
    "asp_dict = pd.read_pickle('../aspect.pkl')"
   ]
  },
  {
   "cell_type": "code",
   "execution_count": 6,
   "id": "eda4d14d-048e-4641-94a4-8e9ae42f6e3e",
   "metadata": {},
   "outputs": [],
   "source": [
    "dataset = \"AMAZON\" # AMAZON YELP"
   ]
  },
  {
   "cell_type": "code",
   "execution_count": 9,
   "id": "2e670b21-3b4a-4846-877d-581128d65942",
   "metadata": {},
   "outputs": [
    {
     "name": "stdout",
     "output_type": "stream",
     "text": [
      "['SUPPORT', 'OS', 'DISPLAY', 'BATTERY', 'COMPANY', 'MOUSE', 'SOFTWARE', 'KEYBOARD']\n"
     ]
    }
   ],
   "source": [
    "asp_list = asp_dict[dataset]\n",
    "print(asp_list)"
   ]
  },
  {
   "cell_type": "code",
   "execution_count": 11,
   "id": "ef78c0d3-8848-4e88-a46f-a508a7a9f602",
   "metadata": {},
   "outputs": [
    {
     "ename": "FileNotFoundError",
     "evalue": "[Errno 2] No such file or directory: '../preprocessed/YELP/YELP_sent_affin_gen.txt'",
     "output_type": "error",
     "traceback": [
      "\u001b[0;31m---------------------------------------------------------------------------\u001b[0m",
      "\u001b[0;31mFileNotFoundError\u001b[0m                         Traceback (most recent call last)",
      "\u001b[0;32m<ipython-input-11-42a7aeba8411>\u001b[0m in \u001b[0;36m<module>\u001b[0;34m\u001b[0m\n\u001b[1;32m      1\u001b[0m \u001b[0mN\u001b[0m \u001b[0;34m=\u001b[0m \u001b[0;36m10\u001b[0m\u001b[0;34m\u001b[0m\u001b[0;34m\u001b[0m\u001b[0m\n\u001b[0;32m----> 2\u001b[0;31m \u001b[0;32mwith\u001b[0m \u001b[0mopen\u001b[0m\u001b[0;34m(\u001b[0m\u001b[0;34m\"../preprocessed/YELP/YELP_sent_affin_gen.txt\"\u001b[0m\u001b[0;34m)\u001b[0m \u001b[0;32mas\u001b[0m \u001b[0mf\u001b[0m\u001b[0;34m:\u001b[0m\u001b[0;34m\u001b[0m\u001b[0;34m\u001b[0m\u001b[0m\n\u001b[0m\u001b[1;32m      3\u001b[0m     \u001b[0mlines\u001b[0m \u001b[0;34m=\u001b[0m \u001b[0mf\u001b[0m\u001b[0;34m.\u001b[0m\u001b[0mread\u001b[0m\u001b[0;34m(\u001b[0m\u001b[0;34m)\u001b[0m\u001b[0;34m\u001b[0m\u001b[0;34m\u001b[0m\u001b[0m\n\u001b[1;32m      4\u001b[0m \u001b[0;34m\u001b[0m\u001b[0m\n\u001b[1;32m      5\u001b[0m \u001b[0mseeds\u001b[0m \u001b[0;34m=\u001b[0m \u001b[0mlines\u001b[0m\u001b[0;34m.\u001b[0m\u001b[0msplit\u001b[0m\u001b[0;34m(\u001b[0m\u001b[0;34m\"|\"\u001b[0m\u001b[0;34m)\u001b[0m\u001b[0;34m\u001b[0m\u001b[0;34m\u001b[0m\u001b[0m\n",
      "\u001b[0;31mFileNotFoundError\u001b[0m: [Errno 2] No such file or directory: '../preprocessed/YELP/YELP_sent_affin_gen.txt'"
     ]
    }
   ],
   "source": [
    "N = 10\n",
    "with open(\"../preprocessed/YELP/YELP_sent_affin_gen.txt\") as f:\n",
    "    lines = f.read()\n",
    "    \n",
    "seeds = lines.split(\"|\")\n",
    "pl_affin = seeds[0].split(\" \")[:N]\n",
    "nl_affin = seeds[1].split(\" \")[:N]"
   ]
  },
  {
   "cell_type": "code",
   "execution_count": 10,
   "id": "ba4d5a55-c27a-47aa-94fd-8163473fb4e5",
   "metadata": {},
   "outputs": [],
   "source": [
    "aspect_general = {}\n",
    "for asp in asp_list:\n",
    "    aspect_general[asp] = {'pos':pl_affin,'neg':nl_affin}"
   ]
  },
  {
   "cell_type": "code",
   "execution_count": 11,
   "id": "ec0a4e69-34bf-41be-8adb-56baa84b5aee",
   "metadata": {},
   "outputs": [
    {
     "name": "stdout",
     "output_type": "stream",
     "text": [
      "save seed to: sen_baseline_AMAZON\n"
     ]
    }
   ],
   "source": [
    "dict_str = seed_str(dataset,0.1,aspect_general,False)\n",
    "create_dict(f\"sen_baseline_{dataset}\",dict_str)"
   ]
  },
  {
   "cell_type": "code",
   "execution_count": null,
   "id": "9d5bfe31-f461-4499-96fd-a973caab6ba6",
   "metadata": {},
   "outputs": [],
   "source": []
  },
  {
   "cell_type": "code",
   "execution_count": null,
   "id": "8ce803ab-39d1-4f35-aef9-2cc072d142d4",
   "metadata": {},
   "outputs": [],
   "source": []
  },
  {
   "cell_type": "code",
   "execution_count": null,
   "id": "436bd9b1-202d-4f51-933d-cfd55338dc43",
   "metadata": {},
   "outputs": [],
   "source": []
  },
  {
   "cell_type": "code",
   "execution_count": null,
   "id": "4b78ba57-f0d4-488b-8757-364160eea268",
   "metadata": {},
   "outputs": [],
   "source": []
  }
 ],
 "metadata": {
  "kernelspec": {
   "display_name": "Python 3",
   "language": "python",
   "name": "python3"
  },
  "language_info": {
   "codemirror_mode": {
    "name": "ipython",
    "version": 3
   },
   "file_extension": ".py",
   "mimetype": "text/x-python",
   "name": "python",
   "nbconvert_exporter": "python",
   "pygments_lexer": "ipython3",
   "version": "3.6.13"
  }
 },
 "nbformat": 4,
 "nbformat_minor": 5
}
